{
 "cells": [
  {
   "cell_type": "code",
   "execution_count": 1,
   "metadata": {},
   "outputs": [],
   "source": [
    "import numpy as np\n",
    "import matplotlib.pyplot as plt\n",
    "%matplotlib inline\n"
   ]
  },
  {
   "cell_type": "code",
   "execution_count": 2,
   "metadata": {},
   "outputs": [
    {
     "name": "stdout",
     "output_type": "stream",
     "text": [
      "Class label counts: [50 50]\n",
      "X.shape: (100, 2)\n",
      "y.shape: (100,)\n"
     ]
    }
   ],
   "source": [
    "from sklearn.model_selection import train_test_split\n",
    "from sklearn.preprocessing import StandardScaler\n",
    "\n",
    "data=np.genfromtxt('perceptron_toydata.txt',delimiter='\\t')\n",
    "X,y=data[:,:2],data[:,2]\n",
    "y=y.astype(np.int32)\n",
    "\n",
    "print('Class label counts:', np.bincount(y))\n",
    "print('X.shape:', X.shape)\n",
    "print('y.shape:', y.shape)\n",
    "\n",
    "# Shuffling & train/test split\n",
    "shuffle_idx = np.arange(y.shape[0])\n",
    "shuffle_rng = np.random.RandomState(123)\n",
    "shuffle_rng.shuffle(shuffle_idx)\n",
    "X, y = X[shuffle_idx], y[shuffle_idx]\n",
    "\n",
    "X_train, X_test = X[shuffle_idx[:70]], X[shuffle_idx[70:]]\n",
    "y_train, y_test = y[shuffle_idx[:70]], y[shuffle_idx[70:]]\n",
    "\n",
    "# Normalize (mean zero, unit variance)\n",
    "mu, sigma = X_train.mean(axis=0), X_train.std(axis=0)\n",
    "X_train = (X_train - mu) / sigma\n",
    "X_test = (X_test - mu) / sigma\n"
   ]
  },
  {
   "cell_type": "code",
   "execution_count": 3,
   "metadata": {},
   "outputs": [],
   "source": [
    "class Perceptron:\n",
    "\n",
    "    def __init__(self, num_features) -> None:\n",
    "        self.num_features=num_features\n",
    "        self.weights=np.zeros((num_features,1),dtype=np.float32)\n",
    "        self.bias=np.zeros(1,dtype=np.float32)\n",
    "    \n",
    "    def forward(self, x):\n",
    "        linear=np.dot(x, self.weights)+self.bias\n",
    "        pred=np.where(linear>=0,1,0)\n",
    "        return pred\n",
    "    \n",
    "    def backward(self, x, y):\n",
    "        y_hat=self.forward(x)\n",
    "        error=y-y_hat\n",
    "        return error\n",
    "    \n",
    "    def train(self, x, y, epochs):\n",
    "        for _ in range(epochs):\n",
    "            for i in range(y.shape[0]):\n",
    "                errors=self.backward(x[i].reshape(1, self.num_features), y[i]).reshape(-1)\n",
    "                self.weights += (errors *x[i]).reshape(self.num_features, -1)\n",
    "                self.bias +=errors\n",
    "    \n",
    "    def evaluate( self, x, y):\n",
    "        pred=self.forward(x).reshape(-1)\n",
    "        accuracy= np.sum(pred==y)/y.shape[0]\n",
    "        return (accuracy*100)\n",
    "\n"
   ]
  },
  {
   "cell_type": "code",
   "execution_count": 4,
   "metadata": {},
   "outputs": [
    {
     "name": "stdout",
     "output_type": "stream",
     "text": [
      "Model Parameters:\n",
      " Weigths:[[2.0293188]\n",
      " [0.5932976]]\n",
      " Bias:[-1.]\n"
     ]
    }
   ],
   "source": [
    "pp=Perceptron(num_features=2)\n",
    "\n",
    "pp.train(X_train, y_train, epochs=10)\n",
    "\n",
    "print(f\"Model Parameters:\\n Weigths:{pp.weights}\\n Bias:{pp.bias}\")"
   ]
  },
  {
   "cell_type": "code",
   "execution_count": 5,
   "metadata": {},
   "outputs": [
    {
     "name": "stdout",
     "output_type": "stream",
     "text": [
      "Train Accuracy:100.0\n",
      "Test Accuracy:100.0\n"
     ]
    }
   ],
   "source": [
    "print(f\"Train Accuracy:{pp.evaluate(X_train,y_train)}\")\n",
    "print(f\"Test Accuracy:{pp.evaluate(X_test,y_test)}\")"
   ]
  },
  {
   "cell_type": "code",
   "execution_count": 6,
   "metadata": {},
   "outputs": [
    {
     "data": {
      "image/png": "[encoded data removed]",
      "text/plain": [
       "<Figure size 700x300 with 2 Axes>"
      ]
     },
     "metadata": {},
     "output_type": "display_data"
    }
   ],
   "source": [
    "##########################\n",
    "### 2D Decision Boundary\n",
    "##########################\n",
    "\n",
    "w, b = pp.weights, pp.bias\n",
    "\n",
    "x0_min = -2\n",
    "x1_min = ( (-(w[0] * x0_min) - b[0]) \n",
    "          / w[1] )\n",
    "\n",
    "x0_max = 2\n",
    "x1_max = ( (-(w[0] * x0_max) - b[0]) \n",
    "          / w[1] )\n",
    "\n",
    "# x0*w0 + x1*w1 + b = 0\n",
    "# x1  = (-x0*w0 - b) / w1\n",
    "\n",
    "\n",
    "fig, ax = plt.subplots(1, 2, sharex=True, figsize=(7, 3))\n",
    "\n",
    "ax[0].plot([x0_min, x0_max], [x1_min, x1_max])\n",
    "ax[0].scatter(X_train[y_train==0, 0], X_train[y_train==0, 1], label='class 0', marker='o')\n",
    "ax[0].scatter(X_train[y_train==1, 0], X_train[y_train==1, 1], label='class 1', marker='s')\n",
    "\n",
    "ax[1].plot([x0_min, x0_max], [x1_min, x1_max])\n",
    "ax[1].scatter(X_test[y_test==0, 0], X_test[y_test==0, 1], label='class 0', marker='o')\n",
    "ax[1].scatter(X_test[y_test==1, 0], X_test[y_test==1, 1], label='class 1', marker='s')\n",
    "\n",
    "ax[1].legend(loc='upper left')\n",
    "plt.show()"
   ]
  },
  {
   "cell_type": "code",
   "execution_count": 19,
   "metadata": {},
   "outputs": [],
   "source": [
    "class PSOPerceptron:\n",
    "    def __init__(self, num_features, swarm_size=30, learning_rate=0.5, inertia_weight=0.5, epochs=100):\n",
    "        self.num_features = num_features\n",
    "        self.swarm_size = swarm_size\n",
    "        self.learning_rate = learning_rate\n",
    "        self.inertia_weight = inertia_weight\n",
    "        self.epochs = epochs\n",
    "        \n",
    "        self.particles = np.random.randn(swarm_size, num_features + 1)  # num_features weights + 1 bias\n",
    "        self.velocities = np.random.randn(swarm_size, num_features + 1) * 0.1  # initial velocities\n",
    "        self.personal_best_positions = self.particles.copy()\n",
    "        self.personal_best_scores = np.full(swarm_size, np.inf)\n",
    "        self.global_best_position = None\n",
    "        self.global_best_score = np.inf\n",
    "\n",
    "        self.weights=np.zeros((num_features,1),dtype=np.float32)\n",
    "        self.bias=np.zeros(1,dtype=np.float32)\n",
    "        \n",
    "    def forward(self, x, weights):\n",
    "        linear = np.dot(x, weights[:-1]) + weights[-1]  # Last element is the bias\n",
    "        return np.where(linear >= 0, 1, 0)\n",
    "\n",
    "    def fitness(self, x, y, weights):\n",
    "        predictions = self.forward(x, weights)\n",
    "        accuracy = np.sum(predictions == y) / y.shape[0]\n",
    "        return 1 - accuracy  # Fitness is (1 - accuracy) to minimize error\n",
    "\n",
    "    def update_particles(self, x, y):\n",
    "        for i in range(self.swarm_size):\n",
    "            # Evaluate fitness of each particle\n",
    "            score = self.fitness(x, y, self.particles[i])\n",
    "            \n",
    "            # Update personal best position\n",
    "            if score < self.personal_best_scores[i]:\n",
    "                self.personal_best_scores[i] = score\n",
    "                self.personal_best_positions[i] = self.particles[i].copy()\n",
    "            \n",
    "            # Update global best position\n",
    "            if score < self.global_best_score:\n",
    "                self.global_best_score = score\n",
    "                self.global_best_position = self.particles[i].copy()\n",
    "\n",
    "        # Update velocities and positions of particles\n",
    "        for i in range(self.swarm_size):\n",
    "            r1, r2 = np.random.rand(2)\n",
    "            self.velocities[i] = (self.inertia_weight * self.velocities[i] +\n",
    "                                  self.learning_rate * r1 * (self.personal_best_positions[i] - self.particles[i]) +\n",
    "                                  self.learning_rate * r2 * (self.global_best_position - self.particles[i]))\n",
    "            self.particles[i] += self.velocities[i]\n",
    "\n",
    "    def train(self, x, y, epochs):\n",
    "        for epoch in range(epochs):\n",
    "            self.update_particles(x, y)\n",
    "        # After training, the best weights are stored in global_best_position\n",
    "        self.weights = self.global_best_position[:-1]  # Assign best weights (excluding the bias)\n",
    "        self.bias = self.global_best_position[-1] \n",
    "\n",
    "    def evaluate(self, x, y):\n",
    "        pred = self.forward(x, np.concatenate([self.weights.flatten(), [self.bias]]))\n",
    "        accuracy = np.sum(pred == y) / y.shape[0]\n",
    "        return accuracy * 100"
   ]
  },
  {
   "cell_type": "code",
   "execution_count": 25,
   "metadata": {},
   "outputs": [
    {
     "name": "stdout",
     "output_type": "stream",
     "text": [
      "Model Parameters:\n",
      " Weigths:[0.39764581 0.40767996]\n",
      " Bias:-0.3138441172278472\n"
     ]
    }
   ],
   "source": [
    "pso=PSOPerceptron(num_features=2)\n",
    "\n",
    "pso.train(X_train, y_train, epochs=10)\n",
    "\n",
    "print(f\"Model Parameters:\\n Weigths:{pso.weights}\\n Bias:{pso.bias}\")"
   ]
  },
  {
   "cell_type": "code",
   "execution_count": 27,
   "metadata": {},
   "outputs": [
    {
     "name": "stdout",
     "output_type": "stream",
     "text": [
      "Train Accuracy:100.0\n",
      "Test Accuracy:93.33333333333333\n"
     ]
    }
   ],
   "source": [
    "print(f\"Train Accuracy:{pso.evaluate(X_train,y_train)}\")\n",
    "print(f\"Test Accuracy:{pso.evaluate(X_test,y_test)}\")"
   ]
  },
  {
   "cell_type": "code",
   "execution_count": 24,
   "metadata": {},
   "outputs": [
    {
     "data": {
      "image/png": "[encoded data removed]",
      "text/plain": [
       "<Figure size 700x300 with 2 Axes>"
      ]
     },
     "metadata": {},
     "output_type": "display_data"
    }
   ],
   "source": [
    "w, b = pso.weights, pso.bias.flatten() \n",
    "\n",
    "x0_min = -2\n",
    "if w[1, 0] != 0:  # Check to avoid division by zero\n",
    "    x1_min = (-(w[0, 0] * x0_min) - b) / w[1, 0]\n",
    "else:\n",
    "    x1_min = np.nan  # Handle division by zero case\n",
    "\n",
    "x0_max = 2\n",
    "if w[1, 0] != 0:  # Check to avoid division by zero\n",
    "    x1_max = (-(w[0, 0] * x0_max) - b) / w[1, 0]\n",
    "else:\n",
    "    x1_max = np.nan\n",
    "    \n",
    "# Create subplots for train and test data\n",
    "fig, ax = plt.subplots(1, 2, sharex=True, figsize=(7, 3))\n",
    "\n",
    "# Plot decision boundary and training data\n",
    "ax[0].plot([x0_min, x0_max], [x1_min, x1_max], label='Decision Boundary')\n",
    "ax[0].scatter(X_train[y_train == 0, 0], X_train[y_train == 0, 1], label='Class 0', marker='o')\n",
    "ax[0].scatter(X_train[y_train == 1, 0], X_train[y_train == 1, 1], label='Class 1', marker='s')\n",
    "ax[0].set_title('Training Data')\n",
    "ax[0].legend()\n",
    "\n",
    "# Plot decision boundary and test data\n",
    "ax[1].plot([x0_min, x0_max], [x1_min, x1_max], label='Decision Boundary')\n",
    "ax[1].scatter(X_test[y_test == 0, 0], X_test[y_test == 0, 1], label='Class 0', marker='o')\n",
    "ax[1].scatter(X_test[y_test == 1, 0], X_test[y_test == 1, 1], label='Class 1', marker='s')\n",
    "ax[1].set_title('Test Data')\n",
    "ax[1].legend(loc='upper left')\n",
    "\n",
    "# Display the graph\n",
    "plt.show()"
   ]
  },
  {
   "cell_type": "code",
   "execution_count": null,
   "metadata": {},
   "outputs": [],
   "source": []
  }
 ],
 "metadata": {
  "kernelspec": {
   "display_name": "torch",
   "language": "python",
   "name": "python3"
  },
  "language_info": {
   "codemirror_mode": {
    "name": "ipython",
    "version": 3
   },
   "file_extension": ".py",
   "mimetype": "text/x-python",
   "name": "python",
   "nbconvert_exporter": "python",
   "pygments_lexer": "ipython3",
   "version": "3.11.9"
  }
 },
 "nbformat": 4,
 "nbformat_minor": 2
}
