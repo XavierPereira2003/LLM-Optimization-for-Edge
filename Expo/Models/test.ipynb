{
 "cells": [
  {
   "cell_type": "code",
   "execution_count": 14,
   "metadata": {},
   "outputs": [],
   "source": [
    "#Model Libraries\n",
    "import os\n",
    "import torch\n",
    "from transformers import AutoModelForSeq2SeqLM, AutoTokenizer\n",
    "from peft import PeftModel, get_peft_model, LoraConfig\n",
    "import logging\n",
    "import os\n",
    "import sys\n",
    "from datasets import load_from_disk\n",
    "import random"
   ]
  },
  {
   "cell_type": "code",
   "execution_count": 16,
   "metadata": {},
   "outputs": [],
   "source": [
    "boolq=load_from_disk(\"/home/deon/code/Project/Expo/Models/Boolq\")\n",
    "inputs=boolq[random.randint(0,1000)]\n"
   ]
  },
  {
   "cell_type": "code",
   "execution_count": 18,
   "metadata": {},
   "outputs": [
    {
     "data": {
      "text/plain": [
       "\"answer yes or no: is there a tube station at wembley stadium passage: Wembley Park tube station -- Wembley Park is a London Underground station in Wembley Park, north west London. The station is served by the Underground's Metropolitan and Jubilee Lines and is in Travelcard Zone 4. It is located on Bridge Road (A4089) and is the nearest Underground station to the Wembley Stadium and Wembley Arena complex. This is where the Jubilee line from Stanmore diverges from the Metropolitan line which was formerly a branch of the Metropolitan Railway and was taken over by the Bakerloo line and today part of the Jubilee line.\""
      ]
     },
     "execution_count": 18,
     "metadata": {},
     "output_type": "execute_result"
    }
   ],
   "source": [
    "inputs['input_text']"
   ]
  },
  {
   "cell_type": "code",
   "execution_count": null,
   "metadata": {},
   "outputs": [],
   "source": []
  }
 ],
 "metadata": {
  "kernelspec": {
   "display_name": "rakuten_project",
   "language": "python",
   "name": "python3"
  },
  "language_info": {
   "codemirror_mode": {
    "name": "ipython",
    "version": 3
   },
   "file_extension": ".py",
   "mimetype": "text/x-python",
   "name": "python",
   "nbconvert_exporter": "python",
   "pygments_lexer": "ipython3",
   "version": "3.11.9"
  }
 },
 "nbformat": 4,
 "nbformat_minor": 2
}
